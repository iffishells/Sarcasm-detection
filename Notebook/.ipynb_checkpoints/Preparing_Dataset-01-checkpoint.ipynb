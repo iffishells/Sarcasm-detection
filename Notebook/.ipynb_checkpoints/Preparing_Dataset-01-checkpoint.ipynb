{
 "cells": [
  {
   "cell_type": "markdown",
   "id": "3c95bb6d-8fab-470e-ac19-748593cfc62a",
   "metadata": {},
   "source": [
    "## Local Data Gathering"
   ]
  },
  {
   "cell_type": "code",
   "execution_count": 50,
   "id": "9efd44a3-90fe-44ba-9598-9b4c2ca52d78",
   "metadata": {},
   "outputs": [],
   "source": [
    "import pandas as pd\n",
    "import numpy as np\n",
    "import os"
   ]
  },
  {
   "cell_type": "code",
   "execution_count": 90,
   "id": "f9f5572e-3274-401f-952e-08804ccad662",
   "metadata": {},
   "outputs": [
    {
     "name": "stdout",
     "output_type": "stream",
     "text": [
      "DataGathering Called\n"
     ]
    },
    {
     "ename": "NameError",
     "evalue": "name 'df' is not defined",
     "output_type": "error",
     "traceback": [
      "\u001b[0;31m---------------------------------------------------------------------------\u001b[0m",
      "\u001b[0;31mNameError\u001b[0m                                 Traceback (most recent call last)",
      "\u001b[0;32m/tmp/ipykernel_7576/2570082439.py\u001b[0m in \u001b[0;36m<module>\u001b[0;34m\u001b[0m\n\u001b[1;32m     70\u001b[0m     \u001b[0;31m# print(df)\u001b[0m\u001b[0;34m\u001b[0m\u001b[0;34m\u001b[0m\u001b[0m\n\u001b[1;32m     71\u001b[0m \u001b[0;32mif\u001b[0m \u001b[0m__name__\u001b[0m\u001b[0;34m==\u001b[0m \u001b[0;34m\"__main__\"\u001b[0m\u001b[0;34m:\u001b[0m\u001b[0;34m\u001b[0m\u001b[0;34m\u001b[0m\u001b[0m\n\u001b[0;32m---> 72\u001b[0;31m     \u001b[0mDataGathering\u001b[0m\u001b[0;34m(\u001b[0m\u001b[0;34m)\u001b[0m\u001b[0;34m\u001b[0m\u001b[0;34m\u001b[0m\u001b[0m\n\u001b[0m",
      "\u001b[0;32m/tmp/ipykernel_7576/2570082439.py\u001b[0m in \u001b[0;36mDataGathering\u001b[0;34m()\u001b[0m\n\u001b[1;32m     59\u001b[0m \u001b[0;34m\u001b[0m\u001b[0m\n\u001b[1;32m     60\u001b[0m     \u001b[0mSarcasticDf\u001b[0m \u001b[0;34m=\u001b[0m \u001b[0mpd\u001b[0m\u001b[0;34m.\u001b[0m\u001b[0mDataFrame\u001b[0m\u001b[0;34m(\u001b[0m\u001b[0mSarcasticDatabase\u001b[0m\u001b[0;34m)\u001b[0m\u001b[0;34m\u001b[0m\u001b[0;34m\u001b[0m\u001b[0m\n\u001b[0;32m---> 61\u001b[0;31m     \u001b[0mprint\u001b[0m\u001b[0;34m(\u001b[0m\u001b[0mdf\u001b[0m\u001b[0;34m.\u001b[0m\u001b[0mshape\u001b[0m\u001b[0;34m)\u001b[0m\u001b[0;34m\u001b[0m\u001b[0;34m\u001b[0m\u001b[0m\n\u001b[0m\u001b[1;32m     62\u001b[0m \u001b[0;34m\u001b[0m\u001b[0m\n\u001b[1;32m     63\u001b[0m     \u001b[0mNonSarcasticDf\u001b[0m \u001b[0;34m=\u001b[0m \u001b[0mpd\u001b[0m\u001b[0;34m.\u001b[0m\u001b[0mDataFrame\u001b[0m\u001b[0;34m(\u001b[0m\u001b[0mNonSarcasticDatabase\u001b[0m\u001b[0;34m)\u001b[0m\u001b[0;34m\u001b[0m\u001b[0;34m\u001b[0m\u001b[0m\n",
      "\u001b[0;31mNameError\u001b[0m: name 'df' is not defined"
     ]
    }
   ],
   "source": [
    "Sarc_data = \"../SarNonSarcDatasets/Sarc/\"\n",
    "NonSarc_data = \"../SarNonSarcDatasets/NonSarc/\" \n",
    "def DataGathering():\n",
    "    print(\"DataGathering Called\")\n",
    "    # work on  Sarc Text files\n",
    "    \n",
    "    #################################################\n",
    "    ############### Sarcastic Work##################\n",
    "    SarcasticLoopCounter = 0\n",
    "    SarcListDir = os.listdir(Sarc_data)\n",
    "    SarcasticList = []\n",
    "    for FileName in SarcListDir:\n",
    "        # print(FileName)\n",
    "        # print(Sarc_data+FileName)\n",
    "        with open(Sarc_data+FileName) as file:\n",
    "            Sarcastic_lines = file.readline()\n",
    "            \n",
    "            \n",
    "            SarcasticList.append(Sarcastic_lines)\n",
    "        \n",
    "        SarcasticLoopCounter = SarcasticLoopCounter+1 # nice joke\n",
    "        \n",
    "        # controller for sampling\n",
    "        if SarcasticLoopCounter >10:\n",
    "            break\n",
    "            \n",
    "    # print(len(SarcasticList))\n",
    "    # print(\"SarcasticList : \",SarcasticList)\n",
    "    # ClassSarcasticList =[]\n",
    "    # for i in range\n",
    "    ##############################################\n",
    "    ################ Non Sarcastic Work ##########\n",
    "    \n",
    "    NonSarcasticDir = os.listdir(NonSarc_data)\n",
    "    NonSarcasticList = []\n",
    "    \n",
    "    for FileName in NonSarcasticDir:\n",
    "        with open(NonSarc_data+FileName) as file:\n",
    "            NonSarcasticList.append(file.readline())\n",
    "        \n",
    "    \n",
    "    ###############################################\n",
    "    ##############################################\n",
    "    \n",
    "    SarcasticDatabase = {\n",
    "        # sarcastic ->1\n",
    "        # Non Sarcastic > 0\n",
    "    \"Sentance\" : SarcasticList, \n",
    "    \"Class\" : [1 for i in range(0,len(SarcasticList))]\n",
    "    }\n",
    "    \n",
    "    \n",
    "    NonSarcasticDatabase = {\n",
    "        # sarcastic ->1\n",
    "        # Non Sarcastic > 0\n",
    "    \"Sentance\" : NonSarcasticList, \n",
    "    \"Class\" : [0 for i in range(0,len(NonSarcasticList))]\n",
    "    }\n",
    "    \n",
    "    SarcasticDf = pd.DataFrame(SarcasticDatabase)\n",
    "    # print(SarcasticDf.shape)\n",
    "    \n",
    "    NonSarcasticDf = pd.DataFrame(NonSarcasticDatabase)\n",
    "    print(NonSarcasticDf.head())\n",
    "    \n",
    "    \n",
    "    \n",
    "    # print(df.head())\n",
    "    # print(df.shape)\n",
    "    # print(df)\n",
    "if __name__== \"__main__\":\n",
    "    DataGathering()"
   ]
  },
  {
   "cell_type": "code",
   "execution_count": 52,
   "id": "713d57d8-cdac-4750-829e-e2a5a64e828e",
   "metadata": {},
   "outputs": [
    {
     "ename": "TypeError",
     "evalue": "open() missing required argument 'file' (pos 1)",
     "output_type": "error",
     "traceback": [
      "\u001b[0;31m---------------------------------------------------------------------------\u001b[0m",
      "\u001b[0;31mTypeError\u001b[0m                                 Traceback (most recent call last)",
      "\u001b[0;32m/tmp/ipykernel_7576/1702579571.py\u001b[0m in \u001b[0;36m<module>\u001b[0;34m\u001b[0m\n\u001b[0;32m----> 1\u001b[0;31m \u001b[0;32mwith\u001b[0m \u001b[0mopen\u001b[0m\u001b[0;34m(\u001b[0m\u001b[0;34m)\u001b[0m \u001b[0;32mas\u001b[0m \u001b[0mfile\u001b[0m\u001b[0;34m:\u001b[0m\u001b[0;34m\u001b[0m\u001b[0;34m\u001b[0m\u001b[0m\n\u001b[0m\u001b[1;32m      2\u001b[0m     \u001b[0mprint\u001b[0m\u001b[0;34m(\u001b[0m\u001b[0mfile\u001b[0m\u001b[0;34m.\u001b[0m\u001b[0mreadline\u001b[0m\u001b[0;34m(\u001b[0m\u001b[0;34m)\u001b[0m\u001b[0;34m)\u001b[0m\u001b[0;34m\u001b[0m\u001b[0;34m\u001b[0m\u001b[0m\n",
      "\u001b[0;31mTypeError\u001b[0m: open() missing required argument 'file' (pos 1)"
     ]
    }
   ],
   "source": [
    "with open() as file:\n",
    "    print(file.readline())"
   ]
  },
  {
   "cell_type": "code",
   "execution_count": null,
   "id": "53cb2f41-79f2-465b-9ac6-f8a1e90c938f",
   "metadata": {},
   "outputs": [],
   "source": []
  }
 ],
 "metadata": {
  "kernelspec": {
   "display_name": "Python 3 (ipykernel)",
   "language": "python",
   "name": "python3"
  },
  "language_info": {
   "codemirror_mode": {
    "name": "ipython",
    "version": 3
   },
   "file_extension": ".py",
   "mimetype": "text/x-python",
   "name": "python",
   "nbconvert_exporter": "python",
   "pygments_lexer": "ipython3",
   "version": "3.9.7"
  }
 },
 "nbformat": 4,
 "nbformat_minor": 5
}
