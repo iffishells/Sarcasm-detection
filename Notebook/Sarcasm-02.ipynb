{
 "cells": [
  {
   "cell_type": "code",
   "execution_count": 173,
   "id": "2d511a7c-d505-4346-9b55-a21e66dcde8a",
   "metadata": {},
   "outputs": [],
   "source": [
    "# import imp lib's\n",
    "import pandas as pd\n",
    "import numpy as np\n",
    "import re\n",
    "\n",
    "# for stemming\n",
    "from nltk.stem import PorterStemmer\n",
    "from nltk.tokenize import word_tokenize\n",
    "  \n",
    "from sklearn.feature_extraction.text import TfidfVectorizer\n",
    "from sklearn.model_selection import train_test_split\n",
    "from sklearn.svm import LinearSVC\n",
    "from sklearn.model_selection import cross_val_score\n",
    "from sklearn.naive_bayes import  GaussianNB\n",
    "from sklearn.linear_model import LogisticRegression\n",
    "from sklearn.ensemble import RandomForestClassifier"
   ]
  },
  {
   "cell_type": "code",
   "execution_count": 174,
   "id": "b81fd167-885b-4067-95a8-107147308afb",
   "metadata": {},
   "outputs": [],
   "source": [
    "df = pd.read_csv(\"sarcastic+NonSarcastic_DataSets.csv\")"
   ]
  },
  {
   "cell_type": "code",
   "execution_count": 175,
   "id": "29e9db98-38c5-4751-8a97-e87a68000204",
   "metadata": {},
   "outputs": [],
   "source": [
    "# df.head()\n",
    "df.columns\n",
    "df.drop(columns=[\"Unnamed: 0\"],inplace=True) # remove the extra col"
   ]
  },
  {
   "cell_type": "code",
   "execution_count": 176,
   "id": "963edbf0-c691-48b9-b7b1-55bda3e6e994",
   "metadata": {},
   "outputs": [
    {
     "data": {
      "text/plain": [
       "0        Contraceptives (for example a condom/ the pill...\n",
       "1        You not differentiating between the beaver and...\n",
       "2        Why don't you just sum it up with \"If you're n...\n",
       "3        Oh, we don't have to - sorry, I wasn't clear e...\n",
       "4          Sorry, sometimes sarcasm is quite hard to read.\n",
       "                               ...                        \n",
       "39246    @Zendaya I could see the makeup artists giving...\n",
       "39247    @ZiggiWatkins11 Slvr... That's great name #NOT...\n",
       "39248    @zoso4986 @Nero He is the fag we need but not ...\n",
       "39249    Zuma sounding like Kanye West right now trying...\n",
       "39250    @ZZUCRU @UWDawgPack So true. Students - stick ...\n",
       "Name: Text, Length: 39251, dtype: object"
      ]
     },
     "execution_count": 176,
     "metadata": {},
     "output_type": "execute_result"
    }
   ],
   "source": [
    "df[\"Text\"]"
   ]
  },
  {
   "cell_type": "code",
   "execution_count": 177,
   "id": "a62ce064-04c9-4d5c-abf9-32b0afbbb05c",
   "metadata": {},
   "outputs": [],
   "source": [
    "def displayInformation():\n",
    "    \n",
    "    value_count = df['class'].value_counts()\n",
    "    print(\"Value Counts:\\n\",value_count)\n",
    "    \n",
    "    print(\"*\"*50)\n",
    "    \n",
    "    col_name = df.columns\n",
    "    print(\"Column Name:\\n\",col_name)\n",
    "    print(\"*\"*50)\n",
    "    \n",
    "    # Null Value\n",
    "    print(df.isnull().any(axis=0))\n",
    "    print(\"*\"*50)\n",
    "    \n",
    "    "
   ]
  },
  {
   "cell_type": "code",
   "execution_count": 178,
   "id": "3becb3ab-3213-493f-84d5-39cfd20fe1a7",
   "metadata": {},
   "outputs": [
    {
     "name": "stdout",
     "output_type": "stream",
     "text": [
      "Value Counts:\n",
      " 0    19772\n",
      "1    19479\n",
      "Name: class, dtype: int64\n",
      "**************************************************\n",
      "Column Name:\n",
      " Index(['Text', 'class'], dtype='object')\n",
      "**************************************************\n",
      "Text     False\n",
      "class    False\n",
      "dtype: bool\n",
      "**************************************************\n"
     ]
    }
   ],
   "source": [
    "displayInformation()"
   ]
  },
  {
   "cell_type": "code",
   "execution_count": 179,
   "id": "58e8dad4-9049-499b-8d40-24fe5e6e25ee",
   "metadata": {},
   "outputs": [],
   "source": [
    "labels = df[\"class\"] "
   ]
  },
  {
   "cell_type": "code",
   "execution_count": 180,
   "id": "68b8988e-6ac8-4524-b4f3-3f2335580cd2",
   "metadata": {},
   "outputs": [],
   "source": [
    "def pre_processing():\n",
    "    \n",
    "    # need to remove special character and symbol from the text columns\n",
    "    df[\"Text\"] = df[\"Text\"].apply(lambda s : re.sub('[^a-zA-Z]',' ',s))\n",
    "    \n",
    "    ## getting features and labels\n",
    "    features = df['Text']\n",
    "    \n",
    "\n",
    "    \n",
    "    \n",
    "    # stemming of features \n",
    "    ps = PorterStemmer()\n",
    "    features = features.apply(lambda x: x.split())\n",
    "    features = features.apply(lambda x: ' '.join([ps.stem(word) for word in x]))\n",
    "    \n",
    "    return features "
   ]
  },
  {
   "cell_type": "code",
   "execution_count": 181,
   "id": "59b5b347-4554-4a23-bb54-c2279f3af48d",
   "metadata": {},
   "outputs": [],
   "source": [
    "features = pre_processing()"
   ]
  },
  {
   "cell_type": "code",
   "execution_count": 182,
   "id": "745b12a0-7e07-4526-a757-bd857ce56dd3",
   "metadata": {},
   "outputs": [
    {
     "data": {
      "text/plain": [
       "0        contracept for exampl a condom the pill aren t...\n",
       "1        you not differenti between the beaver and the ...\n",
       "2        whi don t you just sum it up with if you re no...\n",
       "3        oh we don t have to sorri i wasn t clear enoug...\n",
       "4               sorri sometim sarcasm is quit hard to read\n",
       "                               ...                        \n",
       "39246    zendaya i could see the makeup artist give u a...\n",
       "39247       ziggiwatkin slvr that s great name not sarcasm\n",
       "39248    zoso nero he is the fag we need but not the fa...\n",
       "39249    zuma sound like kany west right now tri to exp...\n",
       "39250    zzucru uwdawgpack so true student stick around...\n",
       "Name: Text, Length: 39251, dtype: object"
      ]
     },
     "execution_count": 182,
     "metadata": {},
     "output_type": "execute_result"
    }
   ],
   "source": [
    "features"
   ]
  },
  {
   "cell_type": "code",
   "execution_count": 183,
   "id": "cb47cbab-a711-4faa-be43-5a91642ca180",
   "metadata": {},
   "outputs": [
    {
     "data": {
      "text/plain": [
       "array([[0., 0., 0., ..., 0., 0., 0.],\n",
       "       [0., 0., 0., ..., 0., 0., 0.],\n",
       "       [0., 0., 0., ..., 0., 0., 0.],\n",
       "       ...,\n",
       "       [0., 0., 0., ..., 0., 0., 0.],\n",
       "       [0., 0., 0., ..., 0., 0., 0.],\n",
       "       [0., 0., 0., ..., 0., 0., 0.]])"
      ]
     },
     "execution_count": 183,
     "metadata": {},
     "output_type": "execute_result"
    }
   ],
   "source": [
    "# Vectorizing the data to maximum 5000 features\n",
    "\n",
    "tfidf = TfidfVectorizer(max_features=5000)\n",
    "features = list(features)\n",
    "features = tfidf.fit_transform(features).toarray()\n",
    "\n",
    "\n",
    "features"
   ]
  },
  {
   "cell_type": "code",
   "execution_count": 184,
   "id": "baab3e64-d52c-4d23-9ac7-afb100bcc99d",
   "metadata": {},
   "outputs": [],
   "source": [
    "# getting training and testing data\n",
    "\n",
    "X_train,X_test ,y_train,y_test = train_test_split(\n",
    "                                features,\n",
    "                                 labels,\n",
    "                                 test_size=0.2,\n",
    "                                 train_size=0.8)\n",
    "\n"
   ]
  },
  {
   "cell_type": "code",
   "execution_count": 185,
   "id": "8b98598f-c046-4d7d-9730-51c3cfb62568",
   "metadata": {},
   "outputs": [
    {
     "name": "stdout",
     "output_type": "stream",
     "text": [
      "********** Linear Support Vector Machine **********\n",
      "Score on Train Data : 0.9755732484076434\n",
      "Score on Test Data : 0.9737613042924468\n",
      "********** Gussain Naive Biase **********\n",
      "Score on Train Data : 0.8273248407643312\n",
      "Score on Test Data : 0.8072856960896702\n",
      "********** Logistic Regression **********\n",
      "Score on Train Data : 0.9743312101910828\n",
      "Score on Test Data : 0.9737613042924468\n",
      "********** RandomForestClassifier **********\n",
      "Score on Train Data : 0.988407643312102\n",
      "Score on Test Data : 0.9622977964590498\n"
     ]
    }
   ],
   "source": [
    "# now our data is ready to going to pipeline of model's\n",
    "# model 1  :-\n",
    "\n",
    "# using linear Suppport Vector classifier\n",
    "lsvm = LinearSVC()\n",
    "lsvm.fit(X_train,y_train)\n",
    "# getting score of train and test model\n",
    "print(\"*\"*10,\"Linear Support Vector Machine\",\"*\"*10)\n",
    "print(\"Score on Train Data :\",lsvm.score(X_train,y_train))\n",
    "print(\"Score on Test Data :\",lsvm.score(X_test,y_test))\n",
    "\n",
    "# model 2 :-\n",
    "gnb = GaussianNB()\n",
    "gnb.fit(X_train,y_train)\n",
    "\n",
    "# getting score of train and test model\n",
    "print(\"*\"*10,\"Gussain Naive Biase\",\"*\"*10)\n",
    "print(\"Score on Train Data :\",gnb.score(X_train,y_train))\n",
    "print(\"Score on Test Data :\",gnb.score(X_test,y_test))\n",
    "\n",
    "# logistic Regression\n",
    "lr = LogisticRegression()\n",
    "lr.fit(X_train,y_train)\n",
    "# getting score of train and test model\n",
    "print(\"*\"*10,\"Logistic Regression\",\"*\"*10)\n",
    "print(\"Score on Train Data :\",lr.score(X_train,y_train))\n",
    "print(\"Score on Test Data :\",lr.score(X_test,y_test))\n",
    "\n",
    "rfc = RandomForestClassifier(n_estimators=10,random_state=0)\n",
    "rfc.fit(X_train,y_train)\n",
    "# getting score of train and test model\n",
    "print(\"*\"*10,\"RandomForestClassifier\",\"*\"*10)\n",
    "print(\"Score on Train Data :\",rfc.score(X_train,y_train))\n",
    "print(\"Score on Test Data :\",rfc.score(X_test,y_test))\n"
   ]
  },
  {
   "cell_type": "code",
   "execution_count": null,
   "id": "b8a78f40-64c0-448e-a0bc-0b175f5de235",
   "metadata": {},
   "outputs": [],
   "source": []
  }
 ],
 "metadata": {
  "kernelspec": {
   "display_name": "Python 3 (ipykernel)",
   "language": "python",
   "name": "python3"
  },
  "language_info": {
   "codemirror_mode": {
    "name": "ipython",
    "version": 3
   },
   "file_extension": ".py",
   "mimetype": "text/x-python",
   "name": "python",
   "nbconvert_exporter": "python",
   "pygments_lexer": "ipython3",
   "version": "3.8.11"
  }
 },
 "nbformat": 4,
 "nbformat_minor": 5
}
