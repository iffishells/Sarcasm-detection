{
 "cells": [
  {
   "cell_type": "markdown",
   "id": "06a07d46-bc7f-43cc-a5d7-a4c53c194bf4",
   "metadata": {},
   "source": [
    "# Understading of DataSets"
   ]
  },
  {
   "cell_type": "code",
   "execution_count": 1,
   "id": "dad09d2c-2a5d-4a98-b7df-8bc9cb36762a",
   "metadata": {},
   "outputs": [],
   "source": [
    "# lets import relevent lib\n",
    "import pandas as pd # for handling CSv file\n",
    "import numpy as np # for numerical Computation like matlab\n",
    "\n",
    "# for reading multiple file name pattern\n",
    "import glob"
   ]
  },
  {
   "cell_type": "code",
   "execution_count": 6,
   "id": "9fca7c12-b151-4710-946a-912f4010e563",
   "metadata": {},
   "outputs": [
    {
     "name": "stdout",
     "output_type": "stream",
     "text": [
      "lenght of sarcastic : 19479\n"
     ]
    }
   ],
   "source": [
    "# file_path_sarcastic= '/Datasets/Dataset1/sarc/'\n",
    "# We have multiple text file are sarcastic or nor \n",
    "# so we have to Convert it into the CSv file for sarcastic and non sarcastic\n",
    "\n",
    "sarcastic_list =glob.glob(\"Datasets/Dataset1/sarc/*.txt\")\n",
    "\n",
    "# sarcastic \n",
    "Dataframe_sarcastic= {\n",
    "    'Text' : [],\n",
    "#     'Text' : []\n",
    "}\n",
    "# sarcastic text from datasets 1 folder\n",
    "for name in sarcastic_list:\n",
    "    with open(name ,'r') as f:\n",
    "        Dataframe_sarcastic['Text'].append(f.read())\n",
    "\n",
    "# sarcastic datasetr collecting from different file        \n",
    "file = pd.read_excel(\"Datasets/Dataset 3.xlsx\")\n",
    "Dataframe_sarcastic['Text'].extend(list(file['tweet']))\n",
    "\n",
    "\n",
    "print(\"lenght of sarcastic :\",len(Dataframe_sarcastic['Text']))\n"
   ]
  },
  {
   "cell_type": "code",
   "execution_count": 32,
   "id": "364c8e93-9d34-41be-af6a-164585835547",
   "metadata": {},
   "outputs": [
    {
     "name": "stdout",
     "output_type": "stream",
     "text": [
      "Count file Non Sarcastic : 1000\n",
      "Lenght of non sarcastic :  1000\n"
     ]
    }
   ],
   "source": [
    "# Non sarcastic \n",
    "\n",
    "non_sarcastic_list = glob.glob(\"Datasets/Dataset1/notsarc/*.txt\")\n",
    "print(\"Count file Non Sarcastic :\" ,len(non_sarcastic_list))\n",
    "Dataframe_non_sarcastic= {\n",
    "#     'sarcastic' : [],\n",
    "    'Text' : [],\n",
    "}\n",
    "\n",
    "\n",
    " # non sarcastic text  from datasets1 folder\n",
    "for name in non_sarcastic_list:\n",
    "    with open(name ,'r') as f:\n",
    "        Dataframe_non_sarcastic['Text'].append(f.read())\n",
    "print(\"Lenght of non sarcastic : \",len(Dataframe_non_sarcastic['Text']))\n",
    "\n",
    "\n"
   ]
  },
  {
   "cell_type": "code",
   "execution_count": 34,
   "id": "b958b4d4-c759-43f6-9334-988b6e406904",
   "metadata": {},
   "outputs": [
    {
     "name": "stdout",
     "output_type": "stream",
     "text": [
      "Non sarcastic file name :  ['Datasets/Datset2/Sample/HYP-sarc-notsarc.csv', 'Datasets/Datset2/Sample/GEN-sarc-notsarc.csv', 'Datasets/Datset2/Sample/RQ-sarc-notsarc.csv']\n",
      "len Non Sarcastic yet  :  19772\n"
     ]
    }
   ],
   "source": [
    "nonsarc_list = glob.glob('Datasets/Datset2/Sample/*.csv')\n",
    "nonsarc_list\n",
    "\n",
    "print(\"Non sarcastic file name : \",nonsarc_list)\n",
    "\n",
    "# let extract the text colum form the csv file and saved into the Dictionary in abve\n",
    "\n",
    "for name in nonsarc_list:\n",
    "    # read the single file\n",
    "    file = pd.read_csv(name)\n",
    "#     print(file.head)\n",
    "    text = file['text'].to_list()\n",
    "#     print(text)\n",
    "    Dataframe_non_sarcastic['Text'].extend(text)\n",
    "#         # add into the nonsaracstic list of dataframe\n",
    "print('len Non Sarcastic yet  : ',len(Dataframe_non_sarcastic['Text']))\n",
    "    \n",
    "# # let move to Sarcastic dataset of dataset threee in the Datasets folder\n"
   ]
  },
  {
   "cell_type": "code",
   "execution_count": 35,
   "id": "e80d609d-bda6-4f39-9be0-293647f73eae",
   "metadata": {},
   "outputs": [
    {
     "data": {
      "text/html": [
       "<div>\n",
       "<style scoped>\n",
       "    .dataframe tbody tr th:only-of-type {\n",
       "        vertical-align: middle;\n",
       "    }\n",
       "\n",
       "    .dataframe tbody tr th {\n",
       "        vertical-align: top;\n",
       "    }\n",
       "\n",
       "    .dataframe thead th {\n",
       "        text-align: right;\n",
       "    }\n",
       "</style>\n",
       "<table border=\"1\" class=\"dataframe\">\n",
       "  <thead>\n",
       "    <tr style=\"text-align: right;\">\n",
       "      <th></th>\n",
       "      <th>Text</th>\n",
       "      <th>class</th>\n",
       "    </tr>\n",
       "  </thead>\n",
       "  <tbody>\n",
       "    <tr>\n",
       "      <th>0</th>\n",
       "      <td>Have you seen who our current President is?</td>\n",
       "      <td>1</td>\n",
       "    </tr>\n",
       "    <tr>\n",
       "      <th>1</th>\n",
       "      <td>Oh no, it's not too complex for us to understa...</td>\n",
       "      <td>1</td>\n",
       "    </tr>\n",
       "    <tr>\n",
       "      <th>2</th>\n",
       "      <td>I thought I'd give Brady and Penfold a chance ...</td>\n",
       "      <td>1</td>\n",
       "    </tr>\n",
       "    <tr>\n",
       "      <th>3</th>\n",
       "      <td>So, by your logic, if there's a bad cop in New...</td>\n",
       "      <td>1</td>\n",
       "    </tr>\n",
       "    <tr>\n",
       "      <th>4</th>\n",
       "      <td>So what does this have to do with the topic? A...</td>\n",
       "      <td>1</td>\n",
       "    </tr>\n",
       "  </tbody>\n",
       "</table>\n",
       "</div>"
      ],
      "text/plain": [
       "                                                Text  class\n",
       "0        Have you seen who our current President is?      1\n",
       "1  Oh no, it's not too complex for us to understa...      1\n",
       "2  I thought I'd give Brady and Penfold a chance ...      1\n",
       "3  So, by your logic, if there's a bad cop in New...      1\n",
       "4  So what does this have to do with the topic? A...      1"
      ]
     },
     "execution_count": 35,
     "metadata": {},
     "output_type": "execute_result"
    }
   ],
   "source": [
    "# let convert the dataframe dicitonary into the pandas frame work\n",
    "\n",
    "sarcastic_Data = pd.DataFrame.from_dict(Dataframe_sarcastic,orient='index').T\n",
    "\n",
    "sarcastic_Data['class'] = [1 for i in range(0,19478+1) ]\n",
    "sarcastic_Data.head()"
   ]
  },
  {
   "cell_type": "code",
   "execution_count": 36,
   "id": "d35ef1c5-5c17-4641-8cec-4c58e8922c48",
   "metadata": {},
   "outputs": [
    {
     "data": {
      "text/html": [
       "<div>\n",
       "<style scoped>\n",
       "    .dataframe tbody tr th:only-of-type {\n",
       "        vertical-align: middle;\n",
       "    }\n",
       "\n",
       "    .dataframe tbody tr th {\n",
       "        vertical-align: top;\n",
       "    }\n",
       "\n",
       "    .dataframe thead th {\n",
       "        text-align: right;\n",
       "    }\n",
       "</style>\n",
       "<table border=\"1\" class=\"dataframe\">\n",
       "  <thead>\n",
       "    <tr style=\"text-align: right;\">\n",
       "      <th></th>\n",
       "      <th>Text</th>\n",
       "      <th>class</th>\n",
       "    </tr>\n",
       "  </thead>\n",
       "  <tbody>\n",
       "    <tr>\n",
       "      <th>0</th>\n",
       "      <td>Contraceptives (for example a condom/ the pill...</td>\n",
       "      <td>0</td>\n",
       "    </tr>\n",
       "    <tr>\n",
       "      <th>1</th>\n",
       "      <td>You not differentiating between the beaver and...</td>\n",
       "      <td>0</td>\n",
       "    </tr>\n",
       "    <tr>\n",
       "      <th>2</th>\n",
       "      <td>Why don't you just sum it up with \"If you're n...</td>\n",
       "      <td>0</td>\n",
       "    </tr>\n",
       "    <tr>\n",
       "      <th>3</th>\n",
       "      <td>Oh, we don't have to - sorry, I wasn't clear e...</td>\n",
       "      <td>0</td>\n",
       "    </tr>\n",
       "    <tr>\n",
       "      <th>4</th>\n",
       "      <td>Sorry, sometimes sarcasm is quite hard to read.</td>\n",
       "      <td>0</td>\n",
       "    </tr>\n",
       "  </tbody>\n",
       "</table>\n",
       "</div>"
      ],
      "text/plain": [
       "                                                Text  class\n",
       "0  Contraceptives (for example a condom/ the pill...      0\n",
       "1  You not differentiating between the beaver and...      0\n",
       "2  Why don't you just sum it up with \"If you're n...      0\n",
       "3  Oh, we don't have to - sorry, I wasn't clear e...      0\n",
       "4    Sorry, sometimes sarcasm is quite hard to read.      0"
      ]
     },
     "execution_count": 36,
     "metadata": {},
     "output_type": "execute_result"
    }
   ],
   "source": [
    "# non Sarcastic pandas dataframe\n",
    "\n",
    "\n",
    "non_sarcastic_Data = pd.DataFrame.from_dict(Dataframe_non_sarcastic,orient='index').T\n",
    "\n",
    "non_sarcastic_Data['class'] = [0 for i in range(0,19772) ]\n",
    "non_sarcastic_Data.head()"
   ]
  },
  {
   "cell_type": "code",
   "execution_count": 53,
   "id": "529e9d79-6316-483c-975f-ea16283b7d74",
   "metadata": {},
   "outputs": [],
   "source": [
    "# contact with each other\n",
    "src_data = non_sarcastic_Data.append(sarcastic_Data)"
   ]
  },
  {
   "cell_type": "code",
   "execution_count": 46,
   "id": "c6ac1712-ac18-4e21-a4ba-52f34e7926c8",
   "metadata": {},
   "outputs": [],
   "source": [
    "src_data.shape"
   ]
  },
  {
   "cell_type": "code",
   "execution_count": 49,
   "id": "6d9f27b7-4be2-44e7-82b5-eb13f85b9ad5",
   "metadata": {},
   "outputs": [
    {
     "data": {
      "text/plain": [
       "(39251, 2)"
      ]
     },
     "execution_count": 49,
     "metadata": {},
     "output_type": "execute_result"
    }
   ],
   "source": [
    "src_data.to_csv(\"sarcastic+NonSarcastic_DataSets.csv\")"
   ]
  },
  {
   "cell_type": "code",
   "execution_count": 52,
   "id": "3165a4d8-73ee-4db7-b680-51699ffcb9cd",
   "metadata": {},
   "outputs": [],
   "source": []
  },
  {
   "cell_type": "code",
   "execution_count": null,
   "id": "44a46b50-d8bd-427e-a9e6-3a0c154569dd",
   "metadata": {},
   "outputs": [],
   "source": []
  }
 ],
 "metadata": {
  "kernelspec": {
   "display_name": "Python 3 (ipykernel)",
   "language": "python",
   "name": "python3"
  },
  "language_info": {
   "codemirror_mode": {
    "name": "ipython",
    "version": 3
   },
   "file_extension": ".py",
   "mimetype": "text/x-python",
   "name": "python",
   "nbconvert_exporter": "python",
   "pygments_lexer": "ipython3",
   "version": "3.8.3"
  }
 },
 "nbformat": 4,
 "nbformat_minor": 5
}
